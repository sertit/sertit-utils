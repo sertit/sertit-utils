{
 "cells": [
  {
   "cell_type": "markdown",
   "id": "0d21d9ed-89bc-4ea7-8112-55ef31c7cc36",
   "metadata": {},
   "source": [
    "# Getting started"
   ]
  },
  {
   "cell_type": "markdown",
   "id": "4c678c36-daac-491e-b87c-01e24347fb3d",
   "metadata": {},
   "source": [
    "Sertit utils is a set of functions for geo analysis. Blablabla"
   ]
  },
  {
   "cell_type": "markdown",
   "id": "86ac4ff9-0a74-41b5-a673-12a9f51cb8af",
   "metadata": {},
   "source": [
    "## Open a raster image"
   ]
  },
  {
   "cell_type": "code",
   "execution_count": null,
   "id": "3dcc7e7f-d728-4efd-ae1b-63f41800b6d8",
   "metadata": {},
   "outputs": [],
   "source": [
    "from sertit import AnyPath, rasters\n",
    "from sertit.unistra import unistra_s3\n",
    "\n",
    "with unistra_s3():\n",
    "    pth = AnyPath(\"s3://sertit-sertit-utils-ci/tutorials/getting_started/image.tif\")\n",
    "    r = rasters.read(pth)"
   ]
  },
  {
   "cell_type": "markdown",
   "id": "ec05d64d-2134-4ac8-a323-bf305f116171",
   "metadata": {},
   "source": [
    "For the moment, let ignore the unistra_s3() call since you don't need it to read local images, we'll talk about it later. \n",
    "\n",
    "What happened in this code ?\n",
    "We initialize a geotiff file with `AnyPath` and then read it thanks to `rasters.read`. What is the return type of this function ?\n"
   ]
  },
  {
   "cell_type": "code",
   "execution_count": null,
   "id": "643caaec-e255-4ba0-b818-e20f0abf3936",
   "metadata": {},
   "outputs": [],
   "source": [
    "r[0:2, :, :]"
   ]
  },
  {
   "cell_type": "code",
   "execution_count": null,
   "id": "4cf18e35-c394-4869-be76-7e1570d57fa6",
   "metadata": {},
   "outputs": [],
   "source": [
    "r[0:3, ::10, ::10].plot.imshow(robust=True)"
   ]
  },
  {
   "cell_type": "code",
   "execution_count": null,
   "id": "a5e9f4c9-0d03-49b3-b007-3b443d87f04a",
   "metadata": {},
   "outputs": [],
   "source": [
    "r.data"
   ]
  },
  {
   "cell_type": "markdown",
   "id": "009362df-a5a2-4630-864f-a5bc6df2e296",
   "metadata": {},
   "source": [
    "The return type in `xarray.DataArray`. \n",
    "`xarray` is a python library to work with labelled multi-dimensional arrays.\n",
    "Actually, `sertit` use rioxarray to open your raster. `rioxarray` extends `xarray` with the `rio` accessor. Nice. What does it mean ? Simply that you can read and process geographic images thanks to `rioxarray` while `xarray` only understand \"classical\" images. \n",
    "\n",
    "Then what is a geographic DataArray ? It's a containers with data, coordinates and attributes. Let's print them all."
   ]
  },
  {
   "cell_type": "code",
   "execution_count": null,
   "id": "a996a703-831b-4999-986b-7352dff53eee",
   "metadata": {},
   "outputs": [],
   "source": [
    "# Print x and y coordinates\n",
    "print(\"X coordinates:\\n\", r.x)\n",
    "print(\"\\n\\nY ccordinates: \", r.y)"
   ]
  },
  {
   "cell_type": "markdown",
   "id": "826781f7-4aa3-4fd7-9d83-552ab7b946ab",
   "metadata": {},
   "source": [
    "Coordinates are themselfs DataArray ! What about the data and spatial_ref ? Spatial ref can be accessed with `r.spatial_ref`. For data, it's a little bit tricky because `rioxarray` does not print it by default. But you can access it with the `data` attribute. `data` is a dask array containing the real value of our pixels in the image. Our data array only contains one band."
   ]
  },
  {
   "cell_type": "code",
   "execution_count": null,
   "id": "63149829-f074-4b8b-92d8-a1d37a1dbc5b",
   "metadata": {},
   "outputs": [],
   "source": [
    "# print the value of the pixels in the image\n",
    "r.data"
   ]
  },
  {
   "cell_type": "code",
   "execution_count": null,
   "id": "9871216e-1ffd-4196-83f7-246fccc448a6",
   "metadata": {},
   "outputs": [],
   "source": [
    "# The spatial reference is stored in the coordinates of our raster and not in attributes !\n",
    "r.spatial_ref"
   ]
  },
  {
   "cell_type": "markdown",
   "id": "0d47a0d3-cefb-4cca-a993-ca5261ba8c3d",
   "metadata": {},
   "source": [
    "You probably noticed that coordinates rasters contain coordinates in the CRS of the \n",
    "image. In GeoTiff, coordinated are stored in a matrice whose origin is (0,0). Thanks to spatial_ref and to the vector GeoTransform, rioxarray is able to convert the coordinates centered in (0,0) to coordinates in CRS image."
   ]
  },
  {
   "cell_type": "code",
   "execution_count": null,
   "id": "0d9ffeaf-ee2d-4d61-b0d4-13a62237e731",
   "metadata": {},
   "outputs": [],
   "source": [
    "# So finally what are the attributes of our array ?\n",
    "r.attrs\n",
    "# Ok not really interisting..."
   ]
  },
  {
   "cell_type": "markdown",
   "id": "2028fcde-4020-49a6-88f8-ca1a721957a9",
   "metadata": {},
   "source": [
    "## Crop the image\n",
    "\n",
    "Sertit library offers a ready to use function to crop a raster by an AOI. \n",
    "First we use vectors from sertit which can read vectors from any type of data (shapefile, kml...) and return a GeoDtaFrame."
   ]
  },
  {
   "cell_type": "code",
   "execution_count": null,
   "id": "a5e51c0e-8e99-4499-8709-fae8b25537c2",
   "metadata": {},
   "outputs": [],
   "source": [
    "from sertit import vectors\n",
    "\n",
    "with unistra_s3():\n",
    "    aoi_path = AnyPath(\"s3://sertit-sertit-utils-ci/tutorials/getting_started/aoi.shp\")\n",
    "    aoi = vectors.read(aoi_path)"
   ]
  },
  {
   "cell_type": "code",
   "execution_count": null,
   "id": "6052f11e-6cd5-4a48-8901-fa8a4d9d75b7",
   "metadata": {},
   "outputs": [],
   "source": [
    "aoi"
   ]
  },
  {
   "cell_type": "code",
   "execution_count": null,
   "id": "75e76c4c-68f3-409a-a99f-95d609a1a24a",
   "metadata": {
    "scrolled": true
   },
   "outputs": [],
   "source": [
    "aoi.explore()"
   ]
  },
  {
   "cell_type": "code",
   "execution_count": null,
   "id": "614186fc-7cc4-48df-b03c-f07b7b75915d",
   "metadata": {},
   "outputs": [],
   "source": [
    "print(type(aoi))"
   ]
  },
  {
   "cell_type": "markdown",
   "id": "7cdaea4c-fda6-4d23-9d52-04c180b1e9b0",
   "metadata": {},
   "source": [
    "We can use any functions from geopandas, for example esimate_crs"
   ]
  },
  {
   "cell_type": "code",
   "execution_count": null,
   "id": "3b4ae055-efae-49da-84bc-c4f3a05eb137",
   "metadata": {},
   "outputs": [],
   "source": [
    "print(\"Estimate CRS is: \", aoi.estimate_utm_crs())"
   ]
  },
  {
   "cell_type": "code",
   "execution_count": null,
   "id": "399beb84-f14c-4457-b7ff-7dfc5b2adf53",
   "metadata": {},
   "outputs": [],
   "source": [
    "crop_image = rasters.crop(r, aoi)\n",
    "crop_image[0:3, ::10, ::10].plot.imshow(robust=True)"
   ]
  },
  {
   "cell_type": "markdown",
   "id": "529d3b97-64b7-48d8-9dc7-fa6ad66e1b59",
   "metadata": {},
   "source": [
    "Then we can write the output thanks to `rasters.write`. This function is powerful enough to handle compression automatically and write big images (see notebook about processing big images)."
   ]
  },
  {
   "cell_type": "code",
   "execution_count": null,
   "id": "8ec1c25a-fc98-4c2c-981d-8cddfc5420e2",
   "metadata": {},
   "outputs": [],
   "source": [
    "rasters.write(crop_image, \"crop_image.tif\")"
   ]
  },
  {
   "cell_type": "markdown",
   "id": "8d2dcd6d-3f2e-4a33-b8c3-27d66de6c194",
   "metadata": {},
   "source": [
    "## Reprojection"
   ]
  },
  {
   "cell_type": "markdown",
   "id": "9ff9d12e-1c6e-4489-872f-57d8c7ba04a2",
   "metadata": {},
   "source": [
    "## Custom process"
   ]
  },
  {
   "cell_type": "markdown",
   "id": "16615457-8a86-43c7-a8c0-bf89b280b207",
   "metadata": {},
   "source": [
    "Sometimes sertit utils does not contain the function you need. You can use odc-geo (for reporjection for example) or rioxarray. But it could be not enough again. It's where apply_func comes in handy.\n",
    "\n",
    "Let's say we want to classify our raster with the following condition:\n",
    "- If pixel < 6.7 : pixel=1\n",
    "- If 6.7 <= pixel < 11.2 : pixel=2\n",
    "- If 11.2 <= pixel < 22.4 : pixel=3\n",
    "- If 22.4 <= pixel < 33.6 : pixel=4\n",
    "- If pixel >= 33.6 : pixel=5\n",
    "\n",
    "We can use xarray to proceed. Never convert your array to numpy array !"
   ]
  },
  {
   "cell_type": "code",
   "execution_count": null,
   "id": "3c3fa6e7-fbfb-4a02-9d8f-fa8ec4a32074",
   "metadata": {},
   "outputs": [],
   "source": [
    "import xarray\n",
    "\n",
    "from sertit import AnyPath, rasters\n",
    "from sertit.unistra import unistra_s3\n",
    "\n",
    "with unistra_s3():\n",
    "    pth = AnyPath(\n",
    "        \"s3://sertit-sertit-utils-ci/tutorials/getting_started/MeanSoilLoss.tif\"\n",
    "    )\n",
    "    r = rasters.read(pth)\n",
    "\n",
    "conditions = [\n",
    "    (r.data < 6.7),\n",
    "    (r.data >= 6.7) & (r.data < 11.2),\n",
    "    (r.data >= 11.2) & (r.data < 22.4),\n",
    "    (r.data >= 22.4) & (r.data < 33.6),\n",
    "    (r.data >= 33.6),\n",
    "]\n",
    "for i, condition in enumerate(conditions):\n",
    "    r.data = xarray.where(condition, i + 1, r.data)"
   ]
  },
  {
   "cell_type": "code",
   "execution_count": null,
   "id": "cae3ed82-a712-43eb-b431-4b60a4a8eba7",
   "metadata": {},
   "outputs": [],
   "source": [
    "# dask array processes are lazy. The cell above does not perform anything.\n",
    "# We can explicitely call compute() to load the result in memory\n",
    "# but some methods implicitely call it (plot, write)\n",
    "# r = r.compute()"
   ]
  },
  {
   "cell_type": "code",
   "execution_count": null,
   "id": "a48c7a58-0ab0-43c4-a779-f1c440299a2a",
   "metadata": {},
   "outputs": [],
   "source": [
    "r"
   ]
  },
  {
   "cell_type": "code",
   "execution_count": null,
   "id": "5e9973e5-8ed7-44bb-972a-78ac320e70c4",
   "metadata": {},
   "outputs": [],
   "source": [
    "# The plot method actually calls compute()\n",
    "r.plot()"
   ]
  },
  {
   "cell_type": "code",
   "execution_count": null,
   "id": "9c40ae27-d864-4a39-8749-aca9dc7a33c6",
   "metadata": {},
   "outputs": [],
   "source": []
  }
 ],
 "metadata": {
  "kernelspec": {
   "display_name": "Python 3 (ipykernel)",
   "language": "python",
   "name": "python3"
  },
  "language_info": {
   "codemirror_mode": {
    "name": "ipython",
    "version": 3
   },
   "file_extension": ".py",
   "mimetype": "text/x-python",
   "name": "python",
   "nbconvert_exporter": "python",
   "pygments_lexer": "ipython3",
   "version": "3.11.9"
  }
 },
 "nbformat": 4,
 "nbformat_minor": 5
}
